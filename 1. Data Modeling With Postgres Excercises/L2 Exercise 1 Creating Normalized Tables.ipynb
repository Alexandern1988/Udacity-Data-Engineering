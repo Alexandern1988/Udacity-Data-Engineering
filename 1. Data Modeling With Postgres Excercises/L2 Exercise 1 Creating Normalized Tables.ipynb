{
 "cells": [
  {
   "cell_type": "markdown",
   "metadata": {},
   "source": [
    "# L2 Exercise 1: Creating Normalized Tables\n",
    "\n",
    "<img src=\"images/postgresSQLlogo.png\" width=\"250\" height=\"250\">"
   ]
  },
  {
   "cell_type": "markdown",
   "metadata": {},
   "source": [
    "## In this exercise we are going to walk through the basics of modeling data in normalized form. We will create tables in PostgreSQL, insert rows of data, and do simple JOIN SQL queries to show how these mutliple tables can work together. \n"
   ]
  },
  {
   "cell_type": "markdown",
   "metadata": {},
   "source": [
    "#### Import the library \n",
    "Note: An error might popup after this command has exectuted. If it does, read it carefully before ignoring. "
   ]
  },
  {
   "cell_type": "code",
   "execution_count": 1,
   "metadata": {},
   "outputs": [],
   "source": [
    "import psycopg2 as pg"
   ]
  },
  {
   "cell_type": "markdown",
   "metadata": {},
   "source": [
    "####  Create a connection to the database, get a cursor, and set autocommit to true"
   ]
  },
  {
   "cell_type": "code",
   "execution_count": 2,
   "metadata": {},
   "outputs": [],
   "source": [
    "try:\n",
    "    conn = pg.connect(host='127.0.0.1', database='postgres', user='postgres', password='alex1988')\n",
    "except Exception as e:\n",
    "    print('Error: could not connect to the database')\n",
    "    print(e)\n",
    "\n",
    "# cursor    \n",
    "try:\n",
    "    cur = conn.cursor()\n",
    "except Exception as e:\n",
    "    print('Error: could not get cursor to the database')\n",
    "    print(e)\n",
    "\n",
    "# autocommit\n",
    "conn.set_session(autocommit = True)"
   ]
  },
  {
   "cell_type": "markdown",
   "metadata": {},
   "source": [
    "#### Let's imagine we have a table called Music Store. \n",
    "\n",
    "`Table Name: music_store\n",
    "column 0: Transaction Id\n",
    "column 1: Customer Name\n",
    "column 2: Cashier Name\n",
    "column 3: Year \n",
    "column 4: Albums Purchased`\n",
    "\n",
    "## Now to translate this information into a Create Table Statement and insert the data\n",
    "\n",
    "\n",
    "<img src=\"images/table12.png\" width=\"650\" height=\"650\">\n"
   ]
  },
  {
   "cell_type": "code",
   "execution_count": 3,
   "metadata": {},
   "outputs": [
    {
     "name": "stdout",
     "output_type": "stream",
     "text": [
      "(1, 'Amanda', 'Sam', 2000, ['Rubber Soul', 'Let it Be'])\n",
      "(2, 'Toby', 'Sam', 2000, ['My Generation'])\n",
      "(3, 'Max', 'Bob', 2018, ['Meet the Beatles', 'Help!'])\n"
     ]
    }
   ],
   "source": [
    "# We Create Table Statement and insert the data in the table\n",
    "try:\n",
    "    query = \"CREATE TABLE IF NOT EXISTS music_store \\\n",
    "            (Transaction_id int, Customer_name varchar, Cashier_name varchar, Year int, Albums_purchased text[])\"\n",
    "    cur.execute(query)\n",
    "except Exception as e:\n",
    "    print('Error: Issue creating a table')\n",
    "    print(e)\n",
    "    \n",
    "try:\n",
    "    q1 = \"INSERT INTO music_store (Transaction_id, Customer_name, Cashier_name, Year, Albums_purchased) VALUES (%s, %s, %s, %s, %s) \"\n",
    "    record1 = (1, 'Amanda', 'Sam', 2000, ['Rubber soul','Let it be'])\n",
    "    cur.execute(q1, record1)\n",
    "except Exception as e:\n",
    "    print('Error: inserting rows')\n",
    "    print(e)\n",
    "    \n",
    "try:\n",
    "    q2 = \"INSERT INTO music_store (Transaction_id, Customer_name, Cashier_name, Year, Albums_purchased) VALUES (%s, %s, %s, %s, %s) \"\n",
    "    record2 = (2, 'Toby', 'Sam', 2000, ['My generation'])\n",
    "    cur.execute(q2, record2)\n",
    "except Exception as e:\n",
    "    print('Error: inserting rows')\n",
    "    print(e)\n",
    "\n",
    "try:\n",
    "    q3 = \"INSERT INTO music_store (Transaction_id, Customer_name, Cashier_name, Year, Albums_purchased) VALUES (%s, %s, %s, %s, %s) \"\n",
    "    record3 = (3, 'Max', 'Bob', 2018, ['Meet the beatles','Help!'])\n",
    "    cur.execute(q3, record3)\n",
    "except Exception as e:\n",
    "    print('Error: inserting rows')\n",
    "    print(e)\n",
    "\n",
    "try:\n",
    "    cur.execute('select * from music_store')\n",
    "except Exception as e:\n",
    "    print(e)\n",
    "\n",
    "row = cur.fetchone()\n",
    "while row:\n",
    "    print(row)\n",
    "    row = cur.fetchone()"
   ]
  },
  {
   "cell_type": "markdown",
   "metadata": {},
   "source": [
    "#### Moving to 1st Normal Form (1NF)\n",
    "This data has not been normalized. To get this data into 1st normal form, we will need to remove any collections or list of data. We need to break up the list of songs into individual rows. \n",
    "\n",
    "`Table Name: music_store\n",
    "column 0: Transaction Id\n",
    "column 1: Customer Name\n",
    "column 2: Cashier Name\n",
    "column 3: Year \n",
    "column 4: Albums Purchased`\n",
    "\n",
    "<img src=\"images/table13.png\" width=\"650\" height=\"650\">"
   ]
  },
  {
   "cell_type": "code",
   "execution_count": 4,
   "metadata": {},
   "outputs": [
    {
     "name": "stdout",
     "output_type": "stream",
     "text": [
      "(1, 'Amanda', 'Sam', 2000, 'Rubber Soul')\n",
      "(1, 'Amanda', 'Sam', 2000, 'Let it Be')\n",
      "(2, 'Toby', 'Sam', 2000, 'My Generation')\n",
      "(3, 'Max', 'Bob', 2018, 'Help!')\n",
      "(3, 'Max', 'Bob', 2018, 'Meet the Beatles')\n"
     ]
    }
   ],
   "source": [
    "try:\n",
    "    query = \"CREATE TABLE IF NOT EXISTS music_store2 \\\n",
    "    (Transaction_id int, Customer_name varchar, Cashier_name varchar, Year int, Albums_purchased varchar)\"\n",
    "    cur.execute(query)\n",
    "except Exception as e:\n",
    "    print('Error: issue creating a table')\n",
    "    print(e)\n",
    "\n",
    "# Inserting data\n",
    "try:\n",
    "    q1 = \"INSERT INTO music_store2 (Transaction_id, Customer_name, Cashier_name, Year, Albums_purchased) \\\n",
    "          VALUES (%s, %s, %s, %s, %s) \"\n",
    "    record1 = (1, 'Amanda', 'Sam', 2000, 'Rubber soul')\n",
    "    cur.execute(q1,record1)\n",
    "except Exception as e:\n",
    "    print('Error: Inserting data')\n",
    "    print(e)\n",
    "\n",
    "try:\n",
    "    q2 = \"INSERT INTO music_store2 (Transaction_id, Customer_name, Cashier_name, Year, Albums_purchased) \\\n",
    "          VALUES (%s, %s, %s, %s, %s) \"\n",
    "    record2 = (1, 'Amanda', 'Sam', 2000, 'Let it be')\n",
    "    cur.execute(q2,record2)\n",
    "except Exception as e:\n",
    "    print('Error: Inserting data')\n",
    "    print(e)\n",
    "\n",
    "try:\n",
    "    q1 = \"INSERT INTO music_store2 (Transaction_id, Customer_name, Cashier_name, Year, Albums_purchased) \\\n",
    "          VALUES (%s, %s, %s, %s, %s) \"\n",
    "    record1 = (2, 'Toby', 'Sam', 2000, 'My generation')\n",
    "    cur.execute(q1,record1)\n",
    "except Exception as e:\n",
    "    print('Error: Inserting data')\n",
    "    print(e)\n",
    "\n",
    "\n",
    "try:\n",
    "    q1 = \"INSERT INTO music_store2 (Transaction_id, Customer_name, Cashier_name, Year, Albums_purchased) \\\n",
    "          VALUES (%s, %s, %s, %s, %s) \"\n",
    "    record1 = (3, 'Max', 'Bob', 2018, 'Meet the beatles')\n",
    "    cur.execute(q1,record1)\n",
    "except Exception as e:\n",
    "    print('Error: Inserting data')\n",
    "    print(e)\n",
    "\n",
    "try:\n",
    "    q2 = \"INSERT INTO music_store2 (Transaction_id, Customer_name, Cashier_name, Year, Albums_purchased) \\\n",
    "          VALUES (%s, %s, %s, %s, %s) \"\n",
    "    record2 = (3, 'Max', 'Bob', 2018, 'Help!')\n",
    "    cur.execute(q2,record2)\n",
    "except Exception as e:\n",
    "    print('Error: Inserting data')\n",
    "    print(e)\n",
    "    \n",
    "try:\n",
    "    cur.execute('select * from music_store2')\n",
    "except Exception as e:\n",
    "    print('Error: printing is not working')\n",
    "    print(e)\n",
    "    \n",
    "row = cur.fetchone()\n",
    "while row:\n",
    "    print(row)\n",
    "    row = cur.fetchone()"
   ]
  },
  {
   "cell_type": "markdown",
   "metadata": {},
   "source": [
    "#### Moving to 2nd Normal Form (2NF)\n",
    "We have moved our data to be in 1NF which is the first step in moving to 2nd Normal Form. Our table is not yet in 2nd Normal Form. While each of our records in our table is unique, our Primary key (transaction id) is not unique. We need to break this up into two tables, transactions and albums sold. \n",
    "\n",
    "`Table Name: transactions \n",
    "column 0: Transaction ID\n",
    "column 1: Customer Name\n",
    "column 2: Cashier Name\n",
    "column 3: Year `\n",
    "\n",
    "`Table Name: albums_sold\n",
    "column 0: Album Id\n",
    "column 1: Transaction Id\n",
    "column 3: Album Name` \n",
    "\n",
    "<img src=\"images/table14.png\" width=\"450\" height=\"450\"> <img src=\"images/table15.png\" width=\"450\" height=\"450\">"
   ]
  },
  {
   "cell_type": "code",
   "execution_count": 5,
   "metadata": {},
   "outputs": [
    {
     "name": "stdout",
     "output_type": "stream",
     "text": [
      "Table: transactions\n",
      "\n",
      "(1, 'Amanda', 'Sam', 2000)\n",
      "(2, 'Toby', 'Sam', 2000)\n",
      "(3, 'Max', 'Bob', 2018)\n",
      "\n",
      "Table: albums_sold\n",
      "\n",
      "(1, 1, 'Rubber Soul')\n",
      "(2, 1, 'Let it Be')\n",
      "(3, 2, 'My Generation')\n",
      "(4, 3, 'Meet the Beatles')\n",
      "(5, 3, 'Help!')\n"
     ]
    }
   ],
   "source": [
    "# We create two new tables transactions and albums sold and insert data into these tables\n",
    "\n",
    "# Creating Tables\n",
    "try:\n",
    "    query = \"CREATE TABLE IF NOT EXISTS transactions \\\n",
    "            (Transaction_id int, Customer_name varchar, Cashier_name varchar, Year int)\"\n",
    "    cur.execute(query)\n",
    "except Exception as e:\n",
    "    print('Error: Issue creating table')\n",
    "    print(e)\n",
    "    \n",
    "try:\n",
    "    query = \"CREATE TABLE IF NOT EXISTS albums_sold \\\n",
    "            (Album_id int, Transaction_id int, Album_name varchar)\"\n",
    "    cur.execute(query)\n",
    "except Exception as e:\n",
    "    print('Error: Issue creating a table')\n",
    "    print(e)\n",
    "\n",
    "    \n",
    "# Inserting data into transactions\n",
    "try:\n",
    "    query = \"INSERT INTO transactions \\\n",
    "             select distinct Transaction_id, Customer_name, Cashier_name, Year from music_store2\"\n",
    "    cur.execute(query)\n",
    "except Exception as e:\n",
    "    print('Error: Inserting data into transactions')\n",
    "    print(e)\n",
    "    \n",
    "    \n",
    "# Inserting data into albums_sold\n",
    "try:\n",
    "    query = \"INSERT INTO albums_sold (Album_id, Transaction_id, Album_name) \\\n",
    "             select row_number() over(order by ms.transaction_id, ms.albums_purchased), ms.transaction_id, ms.albums_purchased \\\n",
    "             from music_store2 as ms\"\n",
    "    cur.execute(query)\n",
    "except Exception as e:\n",
    "    print('Error: Inserting data into albums_sold')\n",
    "\n",
    "# Print transactions\n",
    "try:\n",
    "    cur.execute('select * from transactions')\n",
    "except Exception as e:\n",
    "    print(e)\n",
    "    \n",
    "print('Transactions table:\\n')\n",
    "row = cur.fetchone()\n",
    "while row:\n",
    "    print(row)\n",
    "    row = cur.fetchone()   \n",
    " \n",
    "    \n",
    "# Print albums_sold\n",
    "try:\n",
    "    cur.execute('select * from albums_sold')\n",
    "except Exception as e:\n",
    "    print(e)\n",
    "    \n",
    "print('Albums_sold:\\n')\n",
    "row = cur.fetchone()\n",
    "while row:\n",
    "    print(row)\n",
    "    row = cur.fetchone()"
   ]
  },
  {
   "cell_type": "markdown",
   "metadata": {},
   "source": [
    "#### Let's do a `JOIN` on this table so we can get all the information we had in our first Table. "
   ]
  },
  {
   "cell_type": "code",
   "execution_count": 6,
   "metadata": {},
   "outputs": [
    {
     "name": "stdout",
     "output_type": "stream",
     "text": [
      "(1, 'Amanda', 'Sam', 2000, 1, 1, 'Rubber Soul')\n",
      "(1, 'Amanda', 'Sam', 2000, 2, 1, 'Let it Be')\n",
      "(2, 'Toby', 'Sam', 2000, 3, 2, 'My Generation')\n",
      "(3, 'Max', 'Bob', 2018, 4, 3, 'Meet the Beatles')\n",
      "(3, 'Max', 'Bob', 2018, 5, 3, 'Help!')\n"
     ]
    }
   ],
   "source": [
    "# We complete the join on the transactions and album_sold tables\n",
    "\n",
    "try:\n",
    "    cur.execute(\"\"\" select *\n",
    "                    from transactions as t join albums_sold as als on t.transaction_id = als.transaction_id \"\"\")\n",
    "except Exception as e:\n",
    "    print('Error: querying data')\n",
    "    print(e)\n",
    "    \n",
    "# Print data\n",
    "row = cur.fetchone()\n",
    "while row:\n",
    "    print(row)\n",
    "    row = cur.fetchone()"
   ]
  },
  {
   "cell_type": "markdown",
   "metadata": {},
   "source": [
    "#### Moving to 3rd Normal Form (3NF)\n",
    "Let's check our table for any transitive dependencies. Transactions can remove Cashier Name to its own table, called Employees, which will leave us with 3 tables. \n",
    "`Table Name: transactions2 \n",
    "column 0: transaction Id\n",
    "column 1: Customer Name\n",
    "column 2: Cashier Id\n",
    "column 3: Year `\n",
    "\n",
    "`Table Name: albums_sold\n",
    "column 0: Album Id\n",
    "column 1: Transaction Id\n",
    "column 3: Album Name` \n",
    "\n",
    "`Table Name: employees\n",
    "column 0: Employee Id\n",
    "column 1: Employee Name `\n",
    "<img src=\"images/table16.png\" width=\"450\" height=\"450\"> <img src=\"images/table15.png\" width=\"450\" height=\"450\"> <img src=\"images/table17.png\" width=\"350\" height=\"350\">\n"
   ]
  },
  {
   "cell_type": "code",
   "execution_count": 7,
   "metadata": {},
   "outputs": [
    {
     "name": "stdout",
     "output_type": "stream",
     "text": [
      "Table: transactions2\n",
      "\n",
      "(1, 'Amanda', 1, 2000)\n",
      "(2, 'Toby', 1, 2000)\n",
      "(3, 'Max', 2, 2018)\n",
      "\n",
      "Table: albums_sold\n",
      "\n",
      "(1, 1, 'Rubber Soul')\n",
      "(2, 1, 'Let it Be')\n",
      "(3, 2, 'My Generation')\n",
      "(4, 3, 'Meet the Beatles')\n",
      "(5, 3, 'Help!')\n",
      "\n",
      "Table: employees\n",
      "\n",
      "(1, 'Sam')\n",
      "(2, 'Bob')\n"
     ]
    }
   ],
   "source": [
    "# Creating tables\n",
    "try:\n",
    "    cur.execute(\"\"\" \n",
    "                CREATE TABLE IF NOT EXISTS transactions2 (Transaction_id int, Customer_name varchar, Cashier_id int, Year int)\n",
    "                \"\"\")\n",
    "except Exception as e:\n",
    "    print('Error: creating transctions2 table')\n",
    "    print(e)\n",
    "    \n",
    "try:\n",
    "    cur.execute(\"\"\"\n",
    "                CREATE TABLE IF NOT EXISTS employees (employee_id int, employee_name varchar)\n",
    "                \"\"\")\n",
    "except Exception as e:\n",
    "    print('Error: creating employees table')\n",
    "    print(e)\n",
    "    \n",
    "\n",
    "# Inserting data into transactions2\n",
    "try:\n",
    "    cur.execute(\"\"\"\n",
    "                INSERT INTO transactions2\n",
    "                select distinct t.transaction_id, t.customer_name, rank() over(order by t.cashier_name), t.year\n",
    "                from public.transactions t\n",
    "                \"\"\")\n",
    "except Exception as e:\n",
    "    print('Error: Inserting data into transactions2')\n",
    "    print(e)\n",
    "    \n",
    "# Inserting data into employees\n",
    "try:\n",
    "    cur.execute(\"\"\"\n",
    "                INSERT INTO employees\n",
    "                select distinct rank() over(order by t.cashier_name), t.cashier_name\n",
    "                from public.transactions t\n",
    "                \"\"\")\n",
    "except Exception as e:\n",
    "    print('Error: Inserting data into employees')\n",
    "    print(e)\n",
    "    \n",
    "# Print transactions\n",
    "print('Transctions2 table:\\n')\n",
    "try:\n",
    "    cur.execute('select * from transactions2')\n",
    "except Exception as e:\n",
    "    print(e)\n",
    "\n",
    "row = cur.fetchone()\n",
    "while row:\n",
    "    print(row)\n",
    "    row = cur.fetchone()\n",
    "    \n",
    "\n",
    "# Print employees\n",
    "print('\\n\\n')\n",
    "print('Employees table:\\n')\n",
    "try:\n",
    "    cur.execute('select * from employees')\n",
    "except Exception as e:\n",
    "      print(e)\n",
    "      \n",
    "row = cur.fetchone()\n",
    "while row:\n",
    "    print(row)\n",
    "    row = cur.fetchone()"
   ]
  },
  {
   "cell_type": "markdown",
   "metadata": {},
   "source": [
    "#### Let's do two `JOIN` on these 3 tables so we can get all the information we had in our first Table. "
   ]
  },
  {
   "cell_type": "code",
   "execution_count": 8,
   "metadata": {},
   "outputs": [
    {
     "name": "stdout",
     "output_type": "stream",
     "text": [
      "(1, 'Amanda', 1, 2000, 1, 1, 'Rubber Soul', 1, 'Sam')\n",
      "(1, 'Amanda', 1, 2000, 2, 1, 'Let it Be', 1, 'Sam')\n",
      "(2, 'Toby', 1, 2000, 3, 2, 'My Generation', 1, 'Sam')\n",
      "(3, 'Max', 2, 2018, 4, 3, 'Meet the Beatles', 2, 'Bob')\n",
      "(3, 'Max', 2, 2018, 5, 3, 'Help!', 2, 'Bob')\n"
     ]
    }
   ],
   "source": [
    "try:\n",
    "    cur.execute(\"\"\"\n",
    "                select t2.transaction_id,t2.customer_name,e.employee_name,t2.year,als.album_name\n",
    "                from transactions2 t2 \n",
    "                    join employees e on t2.cashier_id = employee_id\n",
    "                    join albums_sold als on als.transaction_id = t2.transaction_id\n",
    "                order by 1\n",
    "                \"\"\")\n",
    "except Exception as e:\n",
    "    print('Error: in querying data')\n",
    "    print(e)\n",
    "    \n",
    "\n",
    "print('Joint table:\\n')\n",
    "row = cur.fetchone()\n",
    "while row:\n",
    "    print(row)\n",
    "    row = cur.fetchone()"
   ]
  },
  {
   "cell_type": "markdown",
   "metadata": {},
   "source": [
    "### DONE! We have Normalized our dataset! "
   ]
  },
  {
   "cell_type": "markdown",
   "metadata": {},
   "source": [
    "### For the sake of the demo, Iet's drop the tables. "
   ]
  },
  {
   "cell_type": "code",
   "execution_count": 9,
   "metadata": {},
   "outputs": [],
   "source": [
    " cur.execute('drop table transactions2')\n",
    " cur.execute('drop table transactions')\n",
    " cur.execute('drop table employees')\n",
    " cur.execute('drop table albums_sold')\n",
    " cur.execute('drop table music_store2')\n",
    " cur.execute('drop table music_store')"
   ]
  },
  {
   "cell_type": "markdown",
   "metadata": {},
   "source": [
    "### And finally close the cursor and connection. "
   ]
  },
  {
   "cell_type": "code",
   "execution_count": 10,
   "metadata": {},
   "outputs": [],
   "source": [
    "cur.close()\n",
    "conn.close()"
   ]
  },
  {
   "cell_type": "code",
   "execution_count": null,
   "metadata": {},
   "outputs": [],
   "source": []
  }
 ],
 "metadata": {
  "kernelspec": {
   "display_name": "Python 3 (ipykernel)",
   "language": "python",
   "name": "python3"
  },
  "language_info": {
   "codemirror_mode": {
    "name": "ipython",
    "version": 3
   },
   "file_extension": ".py",
   "mimetype": "text/x-python",
   "name": "python",
   "nbconvert_exporter": "python",
   "pygments_lexer": "ipython3",
   "version": "3.10.5"
  }
 },
 "nbformat": 4,
 "nbformat_minor": 4
}
