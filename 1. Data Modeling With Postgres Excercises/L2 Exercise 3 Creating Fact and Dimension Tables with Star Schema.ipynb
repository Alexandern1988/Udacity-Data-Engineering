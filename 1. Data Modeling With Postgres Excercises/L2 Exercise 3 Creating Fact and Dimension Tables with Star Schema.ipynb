{
 "cells": [
  {
   "cell_type": "markdown",
   "metadata": {},
   "source": [
    "# Lesson 2 Demo 3: Creating Fact and Dimension Tables with Star Schema\n",
    "\n",
    "<img src=\"images/postgresSQLlogo.png\" width=\"250\" height=\"250\">"
   ]
  },
  {
   "cell_type": "markdown",
   "metadata": {},
   "source": [
    "## Walk through the basics of modeling data using Fact and Dimension tables.  You will create both Fact and Dimension tables and show how this is a basic element of the Star Schema."
   ]
  },
  {
   "cell_type": "markdown",
   "metadata": {},
   "source": [
    "#### Import the library \n",
    "Note: An error might popup after this command has exectuted. If it does read it careful before ignoring. "
   ]
  },
  {
   "cell_type": "code",
   "execution_count": 1,
   "metadata": {},
   "outputs": [],
   "source": [
    "import psycopg2 as pg"
   ]
  },
  {
   "cell_type": "markdown",
   "metadata": {},
   "source": [
    "### Create a connection to the database"
   ]
  },
  {
   "cell_type": "code",
   "execution_count": 3,
   "metadata": {},
   "outputs": [],
   "source": [
    "try:\n",
    "    conn = pg.connect(host='127.0.0.1', database='postgres', user='postgres', password='alex1988')\n",
    "except Exception as e:\n",
    "    print('Error: could not connect to the database')\n",
    "    print(e)"
   ]
  },
  {
   "cell_type": "markdown",
   "metadata": {},
   "source": [
    "### Next use that connect to get a cursor that we will use to execute queries."
   ]
  },
  {
   "cell_type": "code",
   "execution_count": 4,
   "metadata": {},
   "outputs": [],
   "source": [
    "try:\n",
    "    cur = conn.cursor()\n",
    "except Exception as e:\n",
    "    print('Error could not get cursor')\n",
    "    print(e)"
   ]
  },
  {
   "cell_type": "markdown",
   "metadata": {},
   "source": [
    "#### For this demo we will use automactic commit so that each action is commited without having to call conn.commit() after each command. The ability to rollback and commit transactions are a feature of Relational Databases. "
   ]
  },
  {
   "cell_type": "code",
   "execution_count": 5,
   "metadata": {},
   "outputs": [],
   "source": [
    "conn.set_session(autocommit=True)"
   ]
  },
  {
   "cell_type": "markdown",
   "metadata": {},
   "source": [
    "### Let's imagine we work at an online Music Store. There will be many tables in our database but let's just focus on 4 tables around customer purchases. \n",
    "\n",
    "`Table Name: customer_transactions\n",
    "column: Customer Id\n",
    "column: Store Id\n",
    "column: Spent`\n",
    "\n",
    "`Table Name: Customer\n",
    "column: Customer Id\n",
    "column: Name\n",
    "column: Rewards`\n",
    "\n",
    "`Table Name: store\n",
    "column: Store Id\n",
    "column: State`\n",
    "\n",
    "`Table Name: items_purchased\n",
    "column: customer id\n",
    "column: Item Name`\n",
    "\n",
    "<img src=\"images/starSchema.png\" width=\"750\" height=\"750\">\n",
    "\n",
    "#### From this representation we can already start to see the makings of a \"STAR\". We have one fact table (the center of the star) and 3  dimension tables that are coming from it."
   ]
  },
  {
   "cell_type": "markdown",
   "metadata": {},
   "source": [
    "### Create the Fact Table and insert the data into the table"
   ]
  },
  {
   "cell_type": "code",
   "execution_count": 6,
   "metadata": {},
   "outputs": [],
   "source": [
    "try:\n",
    "    cur.execute(\"\"\"\n",
    "                CREATE TABLE IF NOT EXISTS customer_transactions (customer_id int, store_id int, spent int)\n",
    "                \"\"\")\n",
    "except Exception as e:\n",
    "    print('Error creating a table')\n",
    "    print(e)\n",
    "\n",
    "\n",
    "try:\n",
    "    query = 'INSERT INTO customer_transactions (customer_id, store_id, spent) VALUES (%s, %s, %s)'\n",
    "    records = (1,1,20.5)\n",
    "    cur.execute(query,records)\n",
    "except Exception as e:\n",
    "    print('Error inseting data')\n",
    "    print(e)\n",
    "    \n",
    "try:\n",
    "    query = 'INSERT INTO customer_transactions (customer_id, store_id, spent) VALUES (%s, %s, %s)'\n",
    "    records = (2,1,35.21)\n",
    "    cur.execute(query,records)\n",
    "except Exception as e:\n",
    "    print('Error inseting data')\n",
    "    print(e)"
   ]
  },
  {
   "cell_type": "markdown",
   "metadata": {},
   "source": [
    "### Create our Dimension Tables and insert data into those tables."
   ]
  },
  {
   "cell_type": "code",
   "execution_count": 7,
   "metadata": {},
   "outputs": [],
   "source": [
    "# customer\n",
    "try:\n",
    "    cur.execute(\"\"\"\n",
    "                CREATE TABLE IF NOT EXISTS customer (customer_id int, name varchar, rewards boolean)\n",
    "                \"\"\")\n",
    "except Exception as e:\n",
    "    print('Error creating customer talbe')\n",
    "    print(e)\n",
    "    \n",
    "# store\n",
    "try:\n",
    "    cur.execute(\"\"\"\n",
    "                CREATE TABLE IF NOT EXISTS store (store_id int, state varchar)\n",
    "                \"\"\")\n",
    "except Exception as e:\n",
    "    print('Error creating store table')\n",
    "    print(e)\n",
    "    \n",
    "# item_purchased\n",
    "try:\n",
    "    cur.execute(\"\"\"\n",
    "                CREATE TABLE IF NOT EXISTS items_purchased (customer_id int, item_number int, item_name varchar)\n",
    "                \"\"\")\n",
    "except Exception as e:\n",
    "    print('Error creating items_purchased table')\n",
    "    print(e)\n",
    "    \n",
    "# Inserting data\n",
    "\n",
    "# customer\n",
    "try:\n",
    "    query = 'INSERT INTO customer (customer_id, name, rewards) VALUES (%s, %s, %s)'\n",
    "    record = (1, 'Amanda', True)\n",
    "    cur.execute(query,record)\n",
    "except Exception as e:\n",
    "    print('Error inserting data into customer')\n",
    "    \n",
    "try:\n",
    "    query = 'INSERT INTO customer (customer_id, name, rewards) VALUES (%s, %s, %s)'\n",
    "    record = (2, 'Toby', False)\n",
    "    cur.execute(query,record)\n",
    "except Exception as e:\n",
    "    print('Error inserting data into customer')\n",
    "    \n",
    "# store\n",
    "try:\n",
    "    query = 'INSERT INTO store (store_id, state) VALUES (%s, %s)'\n",
    "    record = (1, 'CA')\n",
    "    cur.execute(query,record)\n",
    "except Exception as e:\n",
    "    print('Error inseting data into store')\n",
    "    print(e)\n",
    "    \n",
    "try:\n",
    "    query = 'INSERT INTO store (store_id, state) VALUES (%s, %s)'\n",
    "    record = (2, 'WA')\n",
    "    cur.execute(query,record)\n",
    "except Exception as e:\n",
    "    print('Error inseting data into store')\n",
    "    print(e)\n",
    "    \n",
    "    \n",
    "# items_purchased\n",
    "try:\n",
    "    query = 'INSERT INTO items_purchased (customer_id, item_number, item_name) VALUES (%s, %s, %s)'\n",
    "    record = (1, 1, 'rubber soul')\n",
    "    cur.execute(query,record)\n",
    "except Exception as e:\n",
    "    print('Error inserting data into items_purchased')\n",
    "    print(e)\n",
    "    \n",
    "try:\n",
    "    query = 'INSERT INTO items_purchased (customer_id, item_number, item_name) VALUES (%s, %s, %s)'\n",
    "    record = (2, 3, 'let it be')\n",
    "    cur.execute(query,record)\n",
    "except Exception as e:\n",
    "    print('Error inserting data into items_purchased')\n",
    "    print(e)"
   ]
  },
  {
   "cell_type": "markdown",
   "metadata": {},
   "source": [
    "### Now run the following queries on this data that utilize the Fact/Dimension and Star Schema\n",
    "\n",
    "#### Query 1: Find all the customers that spent more than 30 dollars, who are they, which store they bought it from, location of the store, what they bought and if they are a rewards member. \n",
    "\n",
    "#### Query 2: How much did Customer 2 spend"
   ]
  },
  {
   "cell_type": "markdown",
   "metadata": {},
   "source": [
    "### Query 1:  Find all the customers that spent more than 30 dollars, who are they, which store they bought it from, location of the store, what they bought and if they are a rewards member"
   ]
  },
  {
   "cell_type": "code",
   "execution_count": 8,
   "metadata": {},
   "outputs": [
    {
     "name": "stdout",
     "output_type": "stream",
     "text": [
      "('Toby', 1, 'CA', 'Let It Be', False)\n"
     ]
    }
   ],
   "source": [
    "try:\n",
    "    cur.execute(\"\"\"\n",
    "                select c.name\n",
    "                      ,c.rewards\n",
    "                      ,ct.store_id\n",
    "                      ,s.state\n",
    "                      ,ip.item_name \n",
    "                      ,ct.spent\n",
    "                from customer_transactions as ct\n",
    "                    join customer as c on c.customer_id = ct.customer_id\n",
    "                    join store as s on s.store_id = ct.store_id\n",
    "                    join items_purchased as ip on ip.customer_id = ct.customer_id\n",
    "                where ct.spent > 30\n",
    "                \"\"\")\n",
    "except Exception as e:\n",
    "    print('Error querying data')\n",
    "    print(e)\n",
    "    \n",
    "\n",
    "row = cur.fetchone()\n",
    "while row:\n",
    "    print(row)\n",
    "    row = cur.fetchone()"
   ]
  },
  {
   "cell_type": "markdown",
   "metadata": {},
   "source": [
    "### Query 2: How much did Customer 2 spend?"
   ]
  },
  {
   "cell_type": "code",
   "execution_count": 9,
   "metadata": {},
   "outputs": [
    {
     "name": "stdout",
     "output_type": "stream",
     "text": [
      "(2, Decimal('35.21'))\n"
     ]
    }
   ],
   "source": [
    "try:\n",
    "    cur.execute('select customer_id, spent from customer_transactions where customer_id = 2')\n",
    "except Exception as e:\n",
    "    print('Error querying data')\n",
    "    print(e)\n",
    "    \n",
    "row = cur.fetchone()\n",
    "while row:\n",
    "    print(row)\n",
    "    row = cur.fetchone()"
   ]
  },
  {
   "cell_type": "markdown",
   "metadata": {},
   "source": [
    "### Summary: You can see here from this elegant schema that we were: 1) able to get \"facts/metrics\" from our fact table (how much each store sold), and 2) information about our customers that will allow us to do more indepth analytics to get answers to business questions by utilizing our fact and dimension tables. "
   ]
  },
  {
   "cell_type": "markdown",
   "metadata": {},
   "source": [
    "### Drop the tables"
   ]
  },
  {
   "cell_type": "code",
   "execution_count": 10,
   "metadata": {},
   "outputs": [],
   "source": [
    "cur.execute('drop table customer_transactions')\n",
    "cur.execute('drop table custom')\n",
    "cur.execute('drop table store')\n",
    "cur.execute('drop table items_purchased')"
   ]
  },
  {
   "cell_type": "markdown",
   "metadata": {},
   "source": [
    "### And finally close your cursor and connection. "
   ]
  },
  {
   "cell_type": "code",
   "execution_count": 11,
   "metadata": {},
   "outputs": [],
   "source": [
    "cur.close()\n",
    "conn.close()"
   ]
  },
  {
   "cell_type": "code",
   "execution_count": null,
   "metadata": {},
   "outputs": [],
   "source": []
  }
 ],
 "metadata": {
  "kernelspec": {
   "display_name": "Python 3 (ipykernel)",
   "language": "python",
   "name": "python3"
  },
  "language_info": {
   "codemirror_mode": {
    "name": "ipython",
    "version": 3
   },
   "file_extension": ".py",
   "mimetype": "text/x-python",
   "name": "python",
   "nbconvert_exporter": "python",
   "pygments_lexer": "ipython3",
   "version": "3.10.5"
  }
 },
 "nbformat": 4,
 "nbformat_minor": 4
}
