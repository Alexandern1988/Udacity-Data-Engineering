{
 "cells": [
  {
   "cell_type": "markdown",
   "metadata": {},
   "source": [
    "# L1 Exercise 1: Creating a Table with PostgreSQL\n",
    "\n",
    "<img src=\"images/postgresSQLlogo.png\" width=\"250\" height=\"250\">"
   ]
  },
  {
   "cell_type": "markdown",
   "metadata": {},
   "source": [
    "### Walk through the basics of PostgreSQL. You will need to complete the following tasks:<li> Create a table in PostgreSQL, <li> Insert rows of data <li> Run a simple SQL query to validate the information. <br>\n",
    "`#####` denotes where the code needs to be completed. \n",
    "    \n",
    "Note: __Do not__ click the blue Preview button in the lower task bar"
   ]
  },
  {
   "cell_type": "markdown",
   "metadata": {},
   "source": [
    "#### Import the library \n",
    "*Note:* An error might popup after this command has executed. If it does, read it carefully before ignoring. "
   ]
  },
  {
   "cell_type": "code",
   "execution_count": 5,
   "metadata": {},
   "outputs": [
    {
     "name": "stderr",
     "output_type": "stream",
     "text": [
      "'sudo' is not recognized as an internal or external command,\n",
      "operable program or batch file.\n"
     ]
    }
   ],
   "source": [
    "!pip install --user psycopg2"
   ]
  },
  {
   "cell_type": "code",
   "execution_count": 8,
   "metadata": {},
   "outputs": [],
   "source": [
    "import psycopg2 as pg"
   ]
  },
  {
   "cell_type": "markdown",
   "metadata": {},
   "source": [
    "### Create a connection to the database"
   ]
  },
  {
   "cell_type": "code",
   "execution_count": 9,
   "metadata": {},
   "outputs": [],
   "source": [
    "try:\n",
    "    conn = pg.connect(host='127.0.0.1', database='postgres', user='postgres', password='alex1988')\n",
    "except pg.Error as e:\n",
    "    print('Error: could not make connectin to the postgres database')\n",
    "    print(e)"
   ]
  },
  {
   "cell_type": "markdown",
   "metadata": {},
   "source": [
    "### Use the connection to get a cursor that can be used to execute queries."
   ]
  },
  {
   "cell_type": "code",
   "execution_count": 10,
   "metadata": {},
   "outputs": [],
   "source": [
    "try:\n",
    "    cur = conn.cursor()\n",
    "except pg.Error as e:\n",
    "    print('Error could not cursor to the database')\n",
    "    print(e)"
   ]
  },
  {
   "cell_type": "markdown",
   "metadata": {},
   "source": [
    "### TO-DO: Set automatic commit to be true so that each action is committed without having to call conn.commit() after each command. "
   ]
  },
  {
   "cell_type": "code",
   "execution_count": 11,
   "metadata": {},
   "outputs": [],
   "source": [
    "conn.set_session(autocommit=True)"
   ]
  },
  {
   "cell_type": "markdown",
   "metadata": {},
   "source": [
    "### TO-DO: Create a database to do the work in. "
   ]
  },
  {
   "cell_type": "code",
   "execution_count": 10,
   "metadata": {},
   "outputs": [],
   "source": [
    "## TO-DO: Add the database name within the CREATE DATABASE statement. You can choose your own db name.\n",
    "try:\n",
    "    cur.execute('create database udacity')\n",
    "except pg.Error as e:\n",
    "    print(e)"
   ]
  },
  {
   "cell_type": "markdown",
   "metadata": {},
   "source": [
    "#### TO-DO: Add the database name in the connect statement. Let's close our connection to the default database, reconnect to the Udacity database, and get a new cursor."
   ]
  },
  {
   "cell_type": "code",
   "execution_count": 11,
   "metadata": {},
   "outputs": [],
   "source": [
    "## TO-DO: Add the database name within the connect statement\n",
    "try:\n",
    "    conn.close()\n",
    "except pg.Error as e:\n",
    "    print(e)\n",
    "    \n",
    "try:\n",
    "    conn = pg.connect(database='udacity', user='postgres', password='alex1988')\n",
    "except pg.Error as e:\n",
    "    print('Error: could not make a connection to the udacity database')\n",
    "    print(e)\n",
    "    \n",
    "try:\n",
    "    cur = conn.cursor()\n",
    "except pg.Error as e:\n",
    "    print('Error: Could not get cursur to the database')\n",
    "    print(e)\n",
    "\n",
    "conn.set_session(autocommit=True)"
   ]
  },
  {
   "cell_type": "markdown",
   "metadata": {},
   "source": [
    "### Create a Song Library that contains a list of songs, including the song name, artist name, year, album it was from, and if it was a single. \n",
    "\n",
    "`song_title\n",
    "artist_name\n",
    "year\n",
    "album_name\n",
    "single`\n"
   ]
  },
  {
   "cell_type": "code",
   "execution_count": 12,
   "metadata": {},
   "outputs": [],
   "source": [
    "## TO-DO: Finish writing the CREATE TABLE statement with the correct arguments\n",
    "try:\n",
    "    cur.execute('CREATE TABLE IF NOT EXISTS MUSIC_LIBRARY (Album_name varchar, Artist_name varchar, Year int);')\n",
    "except pg.Error as e:\n",
    "    print('Error: Issue creating a table')\n",
    "    print(e)"
   ]
  },
  {
   "cell_type": "markdown",
   "metadata": {},
   "source": [
    "### TO-DO: Insert the following two rows in the table\n",
    "`First Row:  \"Across The Universe\", \"The Beatles\", \"1970\", \"False\", \"Let It Be\"`\n",
    "\n",
    "`Second Row: \"The Beatles\", \"Think For Yourself\", \"False\", \"1965\", \"Rubber Soul\"`"
   ]
  },
  {
   "cell_type": "code",
   "execution_count": 13,
   "metadata": {},
   "outputs": [],
   "source": [
    "## TO-DO: Finish the INSERT INTO statement with the correct arguments\n",
    "\n",
    "try:\n",
    "    insert_query = 'INSERT INTO music_library (album_name, artist_name, year) VALUES (%s, %s, %s)'\n",
    "    insert_record = ('Let it be', 'The beatles', 1970)\n",
    "    cur.execute(insert_query,insert_record)\n",
    "except pg.Error as e:\n",
    "    print('Error: Inserting rows')\n",
    "    print(e)\n",
    "    \n",
    "try:\n",
    "    insert_query = 'INSERT INTO music_library (album_name, artist_name, year) VALUES (%s, %s, %s)'\n",
    "    insert_record = ('Rubber soul', 'The beatles', 1965)\n",
    "    cur.execute(insert_query, insert_record)\n",
    "except pg.Error as e:\n",
    "    print('Error: Inserting rows')\n",
    "    print(e)"
   ]
  },
  {
   "cell_type": "markdown",
   "metadata": {},
   "source": [
    "### TO-DO: Validate your data was inserted into the table. \n"
   ]
  },
  {
   "cell_type": "code",
   "execution_count": 14,
   "metadata": {},
   "outputs": [
    {
     "name": "stdout",
     "output_type": "stream",
     "text": [
      "('The Beatles', 'Across The Universe', 1970, 'Across The Universe', False)\n",
      "('Rubber Soul', 'The Beatles', 1965, 'Think For Yourself', False)\n"
     ]
    }
   ],
   "source": [
    "## TO-DO: Finish the SELECT * Statement \n",
    "try:\n",
    "    cur.execute('select * from music_library')\n",
    "except pg.Error as e:\n",
    "    print('Error: select *')\n",
    "    print(e)\n",
    "    \n",
    "row = cur.fetchone()\n",
    "while row:\n",
    "    print(row)\n",
    "    row = cur.fetchone()"
   ]
  },
  {
   "cell_type": "markdown",
   "metadata": {},
   "source": [
    "### And finally close your cursor and connection. "
   ]
  },
  {
   "cell_type": "code",
   "execution_count": 15,
   "metadata": {},
   "outputs": [],
   "source": [
    "cur.close()\n",
    "conn.close()"
   ]
  },
  {
   "cell_type": "code",
   "execution_count": null,
   "metadata": {},
   "outputs": [],
   "source": []
  }
 ],
 "metadata": {
  "kernelspec": {
   "display_name": "Python 3 (ipykernel)",
   "language": "python",
   "name": "python3"
  },
  "language_info": {
   "codemirror_mode": {
    "name": "ipython",
    "version": 3
   },
   "file_extension": ".py",
   "mimetype": "text/x-python",
   "name": "python",
   "nbconvert_exporter": "python",
   "pygments_lexer": "ipython3",
   "version": "3.10.5"
  }
 },
 "nbformat": 4,
 "nbformat_minor": 4
}
