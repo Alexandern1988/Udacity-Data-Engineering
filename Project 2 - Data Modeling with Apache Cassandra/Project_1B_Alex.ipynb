{
 "cells": [
  {
   "cell_type": "markdown",
   "metadata": {},
   "source": [
    "# Part I. ETL Pipeline for Pre-Processing the Files"
   ]
  },
  {
   "cell_type": "markdown",
   "metadata": {},
   "source": [
    "## PLEASE RUN THE FOLLOWING CODE FOR PRE-PROCESSING THE FILES"
   ]
  },
  {
   "cell_type": "markdown",
   "metadata": {},
   "source": [
    "#### Import Python packages "
   ]
  },
  {
   "cell_type": "code",
   "execution_count": 2,
   "metadata": {},
   "outputs": [],
   "source": [
    "# Import Python packages \n",
    "import pandas as pd\n",
    "import cassandra\n",
    "import re\n",
    "import os\n",
    "import glob\n",
    "import numpy as np\n",
    "import json\n",
    "import csv"
   ]
  },
  {
   "cell_type": "code",
   "execution_count": 3,
   "metadata": {},
   "outputs": [
    {
     "name": "stdout",
     "output_type": "stream",
     "text": [
      "c:\\Users\\Windows 10 2\\OneDrive\\Alex practice\\p2\n"
     ]
    }
   ],
   "source": [
    "print(os.getcwd())"
   ]
  },
  {
   "cell_type": "code",
   "execution_count": 4,
   "metadata": {},
   "outputs": [],
   "source": [
    "target_file = \"event_datafile_new1\""
   ]
  },
  {
   "cell_type": "code",
   "execution_count": 5,
   "metadata": {},
   "outputs": [],
   "source": [
    "def extract_from_csv(file_to_process):\n",
    "    dataframe = pd.read_csv(file_to_process, usecols=['artist','firstName','gender','itemInSession','lastName','length',\\\n",
    "                'level','location','sessionId','song','userId'])\n",
    "    return dataframe"
   ]
  },
  {
   "cell_type": "code",
   "execution_count": 8,
   "metadata": {},
   "outputs": [],
   "source": [
    "def extract_to_df():\n",
    "    # create an empty dataframe to hold all the data\n",
    "    extracted_data = pd.DataFrame(columns=['artist','firstName','gender','itemInSession','lastName','length',\\\n",
    "                'level','location','sessionId','song','userId'])\n",
    "    \n",
    "    # process all csv files\n",
    "    \n",
    "    # first get current folder and subfolder\n",
    "    filepath = 'C:\\\\Users\\\\Windows 10 2\\\\OneDrive\\\\Alex practice\\\\p2\\\\event_data'\n",
    "    \n",
    "    # create a loop to create a list of files and collect each filepath\n",
    "    for root, dirs, file in os.walk(filepath):\n",
    "        \n",
    "        # join the file path and roots with the subdirectories using glob\n",
    "        file_path_list = glob.glob(os.path.join(root,'*.csv'))\n",
    "    \n",
    "        for csvfile in file_path_list:\n",
    "            extracted_data = extracted_data.append(extract_from_csv(csvfile), ignore_index = True)\n",
    "        \n",
    "    return  extracted_data"
   ]
  },
  {
   "cell_type": "code",
   "execution_count": null,
   "metadata": {},
   "outputs": [],
   "source": [
    "all_csv_data = extract_to_df()\n",
    "all_csv_data.dropna(inplace=True)\n",
    "all_csv_data.head()"
   ]
  },
  {
   "cell_type": "code",
   "execution_count": 10,
   "metadata": {},
   "outputs": [
    {
     "name": "stdout",
     "output_type": "stream",
     "text": [
      "<class 'pandas.core.frame.DataFrame'>\n",
      "Int64Index: 6831 entries, 2 to 8070\n",
      "Data columns (total 11 columns):\n",
      " #   Column         Non-Null Count  Dtype \n",
      "---  ------         --------------  ----- \n",
      " 0   artist         6831 non-null   object\n",
      " 1   firstName      6831 non-null   object\n",
      " 2   gender         6831 non-null   object\n",
      " 3   itemInSession  6831 non-null   object\n",
      " 4   lastName       6831 non-null   object\n",
      " 5   length         6831 non-null   object\n",
      " 6   level          6831 non-null   object\n",
      " 7   location       6831 non-null   object\n",
      " 8   sessionId      6831 non-null   object\n",
      " 9   song           6831 non-null   object\n",
      " 10  userId         6831 non-null   object\n",
      "dtypes: object(11)\n",
      "memory usage: 640.4+ KB\n"
     ]
    }
   ],
   "source": [
    "all_csv_data.info()"
   ]
  },
  {
   "cell_type": "code",
   "execution_count": 11,
   "metadata": {},
   "outputs": [
    {
     "name": "stdout",
     "output_type": "stream",
     "text": [
      "<class 'pandas.core.frame.DataFrame'>\n",
      "Int64Index: 6831 entries, 2 to 8070\n",
      "Data columns (total 11 columns):\n",
      " #   Column         Non-Null Count  Dtype  \n",
      "---  ------         --------------  -----  \n",
      " 0   artist         6831 non-null   object \n",
      " 1   firstName      6831 non-null   object \n",
      " 2   gender         6831 non-null   object \n",
      " 3   itemInSession  6831 non-null   int32  \n",
      " 4   lastName       6831 non-null   object \n",
      " 5   length         6831 non-null   float64\n",
      " 6   level          6831 non-null   object \n",
      " 7   location       6831 non-null   object \n",
      " 8   sessionId      6831 non-null   int32  \n",
      " 9   song           6831 non-null   object \n",
      " 10  userId         6831 non-null   float64\n",
      "dtypes: float64(2), int32(2), object(7)\n",
      "memory usage: 587.0+ KB\n"
     ]
    }
   ],
   "source": [
    "all_csv_data = all_csv_data.astype({\n",
    "    'artist': str,\n",
    "    'firstName': str,\n",
    "    'gender': str,\n",
    "    'itemInSession': int,\n",
    "    'lastName': str,\n",
    "    'length': float,\n",
    "    'level': str,\n",
    "    'location': str,\n",
    "    'sessionId': int,\n",
    "    'song': str,\n",
    "    'userId': float\n",
    "}, errors='raise')\n",
    "all_csv_data.info()"
   ]
  },
  {
   "cell_type": "code",
   "execution_count": 22,
   "metadata": {},
   "outputs": [],
   "source": [
    "def load_to_file(terget_file,data_to_load):\n",
    "    data_to_load.to_csv(target_file,index = False, encoding = 'utf-8')"
   ]
  },
  {
   "cell_type": "code",
   "execution_count": 23,
   "metadata": {},
   "outputs": [],
   "source": [
    "# load the extracted data into a new csv file\n",
    "load_to_file(target_file,all_csv_data)"
   ]
  },
  {
   "cell_type": "markdown",
   "metadata": {},
   "source": [
    "# Part II. Complete the Apache Cassandra coding portion of your project. \n",
    "\n",
    "## Now you are ready to work with the CSV file titled <font color=red>event_datafile_new.csv</font>, located within the Workspace directory.  The event_datafile_new.csv contains the following columns: \n",
    "- artist \n",
    "- firstName of user\n",
    "- gender of user\n",
    "- item number in session\n",
    "- last name of user\n",
    "- length of the song\n",
    "- level (paid or free song)\n",
    "- location of the user\n",
    "- sessionId\n",
    "- song title\n",
    "- userId\n",
    "\n",
    "The image below is a screenshot of what the denormalized data should appear like in the <font color=red>**event_datafile_new.csv**</font> after the code above is run:<br>\n",
    "\n",
    "<img src=\"images/image_event_datafile_new.jpg\">"
   ]
  },
  {
   "cell_type": "markdown",
   "metadata": {},
   "source": [
    "## Begin writing your Apache Cassandra code in the cells below"
   ]
  },
  {
   "cell_type": "markdown",
   "metadata": {},
   "source": [
    "#### Creating a Cluster"
   ]
  },
  {
   "cell_type": "code",
   "execution_count": 14,
   "metadata": {},
   "outputs": [],
   "source": [
    "# This should make a connection to a Cassandra instance your local machine \n",
    "# (127.0.0.1)\n",
    "try:\n",
    "    from cassandra.cluster import Cluster\n",
    "    cluster = Cluster()\n",
    "\n",
    "    # To establish connection and begin executing queries, need a session\n",
    "    session = cluster.connect()\n",
    "except Exception as e:\n",
    "    print(e)"
   ]
  },
  {
   "cell_type": "markdown",
   "metadata": {},
   "source": [
    "#### Create Keyspace"
   ]
  },
  {
   "cell_type": "code",
   "execution_count": 15,
   "metadata": {},
   "outputs": [],
   "source": [
    "# TO-DO: Create a Keyspace \n",
    "try:\n",
    "    session.execute(\"\"\"\n",
    "        CREATE KEYSPACE IF NOT EXISTS sparkifydb\n",
    "        WITH REPLICATION = \n",
    "        {'class': 'SimpleStrategy', 'replication_factor': 1}\n",
    "    \"\"\")\n",
    "except Exception as e:\n",
    "    print(e)"
   ]
  },
  {
   "cell_type": "markdown",
   "metadata": {},
   "source": [
    "#### Set Keyspace"
   ]
  },
  {
   "cell_type": "code",
   "execution_count": 16,
   "metadata": {},
   "outputs": [],
   "source": [
    "# TO-DO: Set KEYSPACE to the keyspace specified above\n",
    "try:\n",
    "    session.set_keyspace('sparkifydb')\n",
    "except Exception as e:\n",
    "    print(e)"
   ]
  },
  {
   "cell_type": "code",
   "execution_count": 17,
   "metadata": {},
   "outputs": [
    {
     "data": {
      "text/html": [
       "<div>\n",
       "<style scoped>\n",
       "    .dataframe tbody tr th:only-of-type {\n",
       "        vertical-align: middle;\n",
       "    }\n",
       "\n",
       "    .dataframe tbody tr th {\n",
       "        vertical-align: top;\n",
       "    }\n",
       "\n",
       "    .dataframe thead th {\n",
       "        text-align: right;\n",
       "    }\n",
       "</style>\n",
       "<table border=\"1\" class=\"dataframe\">\n",
       "  <thead>\n",
       "    <tr style=\"text-align: right;\">\n",
       "      <th></th>\n",
       "      <th>artist</th>\n",
       "      <th>song</th>\n",
       "      <th>length</th>\n",
       "      <th>sessionId</th>\n",
       "      <th>itemInSession</th>\n",
       "    </tr>\n",
       "  </thead>\n",
       "  <tbody>\n",
       "    <tr>\n",
       "      <th>2</th>\n",
       "      <td>Des'ree</td>\n",
       "      <td>You Gotta Be</td>\n",
       "      <td>246.30812</td>\n",
       "      <td>139</td>\n",
       "      <td>1</td>\n",
       "    </tr>\n",
       "    <tr>\n",
       "      <th>4</th>\n",
       "      <td>Mr Oizo</td>\n",
       "      <td>Flat 55</td>\n",
       "      <td>144.03873</td>\n",
       "      <td>139</td>\n",
       "      <td>3</td>\n",
       "    </tr>\n",
       "    <tr>\n",
       "      <th>5</th>\n",
       "      <td>Tamba Trio</td>\n",
       "      <td>Quem Quiser Encontrar O Amor</td>\n",
       "      <td>177.18812</td>\n",
       "      <td>139</td>\n",
       "      <td>4</td>\n",
       "    </tr>\n",
       "    <tr>\n",
       "      <th>6</th>\n",
       "      <td>The Mars Volta</td>\n",
       "      <td>Eriatarka</td>\n",
       "      <td>380.42077</td>\n",
       "      <td>139</td>\n",
       "      <td>5</td>\n",
       "    </tr>\n",
       "    <tr>\n",
       "      <th>7</th>\n",
       "      <td>Infected Mushroom</td>\n",
       "      <td>Becoming Insane</td>\n",
       "      <td>440.26730</td>\n",
       "      <td>139</td>\n",
       "      <td>6</td>\n",
       "    </tr>\n",
       "  </tbody>\n",
       "</table>\n",
       "</div>"
      ],
      "text/plain": [
       "              artist                          song     length  sessionId  \\\n",
       "2            Des'ree                  You Gotta Be  246.30812        139   \n",
       "4            Mr Oizo                       Flat 55  144.03873        139   \n",
       "5         Tamba Trio  Quem Quiser Encontrar O Amor  177.18812        139   \n",
       "6     The Mars Volta                     Eriatarka  380.42077        139   \n",
       "7  Infected Mushroom               Becoming Insane  440.26730        139   \n",
       "\n",
       "   itemInSession  \n",
       "2              1  \n",
       "4              3  \n",
       "5              4  \n",
       "6              5  \n",
       "7              6  "
      ]
     },
     "execution_count": 17,
     "metadata": {},
     "output_type": "execute_result"
    }
   ],
   "source": [
    "all_csv_data.head()[['artist', 'song', 'length', 'sessionId', 'itemInSession']]"
   ]
  },
  {
   "cell_type": "markdown",
   "metadata": {},
   "source": [
    "### Now we need to create tables to run the following queries. Remember, with Apache Cassandra you model the database tables on the queries you want to run."
   ]
  },
  {
   "cell_type": "markdown",
   "metadata": {},
   "source": [
    "## Create queries to ask the following three questions of the data\n",
    "\n",
    "### 1. Give me the artist, song title and song's length in the music app history that was heard during  sessionId = 338, and itemInSession  = 4\n",
    "\n",
    "\n",
    "### 2. Give me only the following: name of artist, song (sorted by itemInSession) and user (first and last name) for userid = 10, sessionid = 182\n",
    "    \n",
    "\n",
    "### 3. Give me every user name (first and last) in my music app history who listened to the song 'All Hands Against His Own'\n",
    "\n",
    "\n"
   ]
  },
  {
   "cell_type": "code",
   "execution_count": 28,
   "metadata": {},
   "outputs": [],
   "source": [
    "## TO-DO: Query 1:  Give me the artist, song title and song's length in the music app history that was heard during \\\n",
    "## sessionId = 338, and itemInSession = 4\n",
    "query = 'CREATE TABLE IF NOT EXISTS song_details '\n",
    "query += '(artist text, song text, length float, sessionId int, itemInSession int, PRIMARY KEY(sessionId, itemInSession))'\n",
    "try:\n",
    "    session.execute(query)\n",
    "except Exception as e:\n",
    "    print(e)"
   ]
  },
  {
   "cell_type": "code",
   "execution_count": 29,
   "metadata": {},
   "outputs": [],
   "source": [
    "# We have provided part of the code to set up the CSV file. Please complete the Apache Cassandra code below#\n",
    "file = 'C:\\\\Users\\\\Windows 10 2\\\\OneDrive\\\\Alex practice\\\\p2\\\\event_datafile_new1'\n",
    "\n",
    "with open(file, encoding='utf-8') as f:\n",
    "    csvreader = csv.reader(f)\n",
    "    next(csvreader) # skip header\n",
    "    for line in csvreader:\n",
    "## TO-DO: Assign the INSERT statements into the `query` variable\n",
    "        query = \"INSERT INTO song_details (artist, song, length, sessionId, itemInSession) \"\n",
    "        query = query + \"VALUES (%s, %s, %s, %s, %s)\"\n",
    "        ## TO-DO: Assign which column element should be assigned for each column in the INSERT statement.\n",
    "        ## For e.g., to INSERT artist_name and user first_name, you would change the code below to `line[0], line[1]`\n",
    "        session.execute(query, (line[0], line[9], float(line[5]), int(line[8]), int(line[3]) ))"
   ]
  },
  {
   "cell_type": "markdown",
   "metadata": {},
   "source": [
    "#### Do a SELECT to verify that the data have been inserted into each table"
   ]
  },
  {
   "cell_type": "code",
   "execution_count": 59,
   "metadata": {
    "scrolled": true
   },
   "outputs": [
    {
     "name": "stdout",
     "output_type": "stream",
     "text": [
      "Faithless Music Matters (Mark Knight Dub) 495.30731201171875 338 4\n"
     ]
    }
   ],
   "source": [
    "## TO-DO: Add in the SELECT statement to verify the data was entered into the table\n",
    "query = \"\"\"\n",
    "    select * \n",
    "    from song_details\n",
    "    where sessionId = %s and itemInSession = %s;\n",
    "\"\"\"\n",
    "\n",
    "try:\n",
    "    result = session.execute(query,(338,4))\n",
    "except Exception as e:\n",
    "    print(e)\n",
    "\n",
    "for row in result:\n",
    "    print(row.artist, row.song, row.length, row.sessionid, row.iteminsession)  "
   ]
  },
  {
   "cell_type": "markdown",
   "metadata": {},
   "source": [
    "### COPY AND REPEAT THE ABOVE THREE CELLS FOR EACH OF THE THREE QUESTIONS"
   ]
  },
  {
   "cell_type": "code",
   "execution_count": 51,
   "metadata": {},
   "outputs": [],
   "source": [
    "## TO-DO: Query 2: Give me only the following: name of artist, song (sorted by itemInSession) and user (first and last name)\\\n",
    "## for userid = 10, sessionid = 182\n",
    "query = \"\"\"\n",
    "    CREATE TABLE IF NOT EXISTS artist_details\n",
    "    (userId float, sessionId int, itemInSession int, artist text, song text, firstName text, lastName text, PRIMARY KEY((userId, sessionId), itemInSession))\n",
    "    WITH CLUSTERING ORDER BY (itemInSession ASC)\n",
    "\"\"\"\n",
    "try:\n",
    "    session.execute(query)\n",
    "except Exception as e:\n",
    "    print(e)        "
   ]
  },
  {
   "cell_type": "code",
   "execution_count": 52,
   "metadata": {},
   "outputs": [],
   "source": [
    "query = \"INSERT INTO artist_details (userId, sessionId, itemInSession, artist, song, firstName, lastName) \"\n",
    "query = query + \"VALUES (%s, %s, %s, %s, %s, %s, %s)\"\n",
    "\n",
    "file = 'C:\\\\Users\\\\Windows 10 2\\\\OneDrive\\\\Alex practice\\\\p2\\\\event_datafile_new1'\n",
    "\n",
    "with open(file, encoding='utf-8') as f:\n",
    "    csvreader = csv.reader(f)\n",
    "    next(csvreader) # skip header\n",
    "    for line in csvreader:\n",
    "## TO-DO: Assign the INSERT statements into the `query` variable\n",
    "        query = \"INSERT INTO artist_details (userId, sessionId, itemInSession, artist, song, firstName, lastName) \"\n",
    "        query = query + \"VALUES (%s, %s, %s, %s, %s, %s, %s)\"\n",
    "        ## TO-DO: Assign which column element should be assigned for each column in the INSERT statement.\n",
    "        ## For e.g., to INSERT artist_name and user first_name, you would change the code below to `line[0], line[1]`\n",
    "        session.execute(query, (float(line[10]), int(line[8]), int(line[3]), line[0], line[9], line[1], line[4] ))"
   ]
  },
  {
   "cell_type": "code",
   "execution_count": 58,
   "metadata": {},
   "outputs": [
    {
     "name": "stdout",
     "output_type": "stream",
     "text": [
      "10.0 182 0 Down To The Bone Keep On Keepin' On Sylvie Cruz\n",
      "10.0 182 1 Three Drives Greece 2000 Sylvie Cruz\n",
      "10.0 182 2 Sebastien Tellier Kilometer Sylvie Cruz\n",
      "10.0 182 3 Lonnie Gordon Catch You Baby (Steve Pitron & Max Sanna Radio Edit) Sylvie Cruz\n"
     ]
    }
   ],
   "source": [
    "query = \"\"\"\n",
    "    select * \n",
    "    from artist_details\n",
    "    where userId = %s and sessionId = %s;\n",
    "    \"\"\"\n",
    "\n",
    "try:\n",
    "    result = session.execute(query,(10,182))\n",
    "except Exception as e:\n",
    "    print(e)\n",
    "\n",
    "for row in result:\n",
    "    print(row.userid, row.sessionid, row.iteminsession, row.artist, row.song, row.firstname, row.lastname) #   , , "
   ]
  },
  {
   "cell_type": "code",
   "execution_count": 78,
   "metadata": {},
   "outputs": [],
   "source": [
    "## TO-DO: Query 3: Give me every user name (first and last) in my music app history who listened to the song 'All Hands Against His Own'\n",
    "query = 'CREATE TABLE IF NOT EXISTS user_details '\n",
    "query += '(userId float, firstName text, lastName text, song text, PRIMARY KEY (song))'\n",
    "\n",
    "try:\n",
    "    session.execute(query)\n",
    "except Exception as e:\n",
    "    print(e)                    "
   ]
  },
  {
   "cell_type": "code",
   "execution_count": 77,
   "metadata": {},
   "outputs": [
    {
     "data": {
      "text/plain": [
       "<cassandra.cluster.ResultSet at 0x1fdef80fb50>"
      ]
     },
     "execution_count": 77,
     "metadata": {},
     "output_type": "execute_result"
    }
   ],
   "source": [
    "session.execute('drop table user_details')"
   ]
  },
  {
   "cell_type": "code",
   "execution_count": 79,
   "metadata": {},
   "outputs": [],
   "source": [
    "file = 'C:\\\\Users\\\\Windows 10 2\\\\OneDrive\\\\Alex practice\\\\p2\\\\event_datafile_new1'\n",
    "\n",
    "with open(file, encoding='utf-8') as f:\n",
    "    csvreader = csv.reader(f)\n",
    "    next(csvreader) # skip header\n",
    "    for line in csvreader:\n",
    "## TO-DO: Assign the INSERT statements into the `query` variable\n",
    "        query = \"INSERT INTO user_details (userId, firstName, lastName, song) \"\n",
    "        query = query + \"VALUES (%s, %s, %s, %s)\"\n",
    "        session.execute(query, (float(line[10]), line[1], line[4], line[9]))"
   ]
  },
  {
   "cell_type": "code",
   "execution_count": 80,
   "metadata": {},
   "outputs": [
    {
     "name": "stdout",
     "output_type": "stream",
     "text": [
      "80.0 Tegan Levine All Hands Against His Own\n"
     ]
    }
   ],
   "source": [
    "query = \"\"\"\n",
    "    select *\n",
    "    from user_details\n",
    "    where song = %s;\n",
    "\"\"\"\n",
    "\n",
    "try:\n",
    "    result = session.execute(query,('All Hands Against His Own',))\n",
    "except Exception as e:\n",
    "    print(e)\n",
    "\n",
    "for row in result:\n",
    "    print(row.userid, row.firstname, row.lastname, row.song)"
   ]
  },
  {
   "cell_type": "markdown",
   "metadata": {},
   "source": [
    "### Drop the tables before closing out the sessions"
   ]
  },
  {
   "cell_type": "code",
   "execution_count": 81,
   "metadata": {},
   "outputs": [],
   "source": [
    "## TO-DO: Drop the table before closing out the sessions\n",
    "try:\n",
    "    session.execute(\"DROP TABLE IF EXISTS song_details\")\n",
    "    session.execute(\"DROP TABLE IF EXISTS artist_details\")\n",
    "    session.execute(\"DROP TABLE IF EXISTS user_details\")\n",
    "except Exception as e:\n",
    "    print(e)"
   ]
  },
  {
   "cell_type": "markdown",
   "metadata": {},
   "source": [
    "### Close the session and cluster connection¶"
   ]
  },
  {
   "cell_type": "code",
   "execution_count": 82,
   "metadata": {},
   "outputs": [],
   "source": [
    "session.shutdown()\n",
    "cluster.shutdown()"
   ]
  }
 ],
 "metadata": {
  "kernelspec": {
   "display_name": "Python 3 (ipykernel)",
   "language": "python",
   "name": "python3"
  },
  "language_info": {
   "codemirror_mode": {
    "name": "ipython",
    "version": 3
   },
   "file_extension": ".py",
   "mimetype": "text/x-python",
   "name": "python",
   "nbconvert_exporter": "python",
   "pygments_lexer": "ipython3",
   "version": "3.10.5"
  },
  "vscode": {
   "interpreter": {
    "hash": "96647993e48fbd4933df06d64ac9be5dba369f3c15f21bbb4b09e87736916936"
   }
  }
 },
 "nbformat": 4,
 "nbformat_minor": 4
}
